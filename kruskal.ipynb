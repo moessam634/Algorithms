{
 "cells": [
  {
   "cell_type": "code",
   "execution_count": 2,
   "id": "46057f2b",
   "metadata": {},
   "outputs": [],
   "source": [
    "# Kruskal's algorithm\n",
    "class Graph:\n",
    "    def __init__(self, vertex):\n",
    "        self.V = vertex\n",
    "        self.graph = []\n",
    " \n",
    "    def add_edge(self, u, v, w):\n",
    "        self.graph.append([u, v, w])\n",
    " \n",
    " \n",
    "    def search(self, parent, i):\n",
    "        if parent[i] == i:\n",
    "            return i\n",
    "        return self.search(parent, parent[i])\n",
    " \n",
    "    def apply_union(self, parent, rank, x, y):\n",
    "        xroot = self.search(parent, x)\n",
    "        yroot = self.search(parent, y)\n",
    "        if rank[xroot] < rank[yroot]:\n",
    "            parent[xroot] = yroot\n",
    "        elif rank[xroot] > rank[yroot]:\n",
    "            parent[yroot] = xroot\n",
    "        else:\n",
    "            parent[yroot] = xroot\n",
    "            rank[xroot] += 1\n",
    " \n",
    "  \n",
    "    def kruskal(self):\n",
    "        result = []\n",
    "        i, e = 0, 0\n",
    "        self.graph = sorted(self.graph, key=lambda item: item[2])\n",
    "        parent = []\n",
    "        rank = []\n",
    "        for node in range(self.V):\n",
    "            parent.append(node)\n",
    "            rank.append(0)\n",
    "        while e < self.V - 1:\n",
    "            u, v, w = self.graph[i]\n",
    "            i = i + 1\n",
    "            x = self.search(parent, u)\n",
    "            y = self.search(parent, v)\n",
    "            if x != y:\n",
    "                e = e + 1\n",
    "                result.append([u, v, w])\n",
    "                self.apply_union(parent, rank, x, y)\n",
    "        for u, v, weight in result:\n",
    "            print(\"Edge:\",u, v,end =\" \")\n",
    "            print(\"-\",weight)"
   ]
  },
  {
   "cell_type": "code",
   "execution_count": 3,
   "id": "2a935890",
   "metadata": {},
   "outputs": [
    {
     "name": "stdout",
     "output_type": "stream",
     "text": [
      "Edge: 0 2 - 5\n",
      "Edge: 3 4 - 7\n",
      "Edge: 0 1 - 8\n",
      "Edge: 2 4 - 10\n"
     ]
    }
   ],
   "source": [
    "g = Graph(5)\n",
    "g.add_edge(0, 1, 8)\n",
    "g.add_edge(0, 2, 5)\n",
    "g.add_edge(1, 2, 9)\n",
    "g.add_edge(1, 3, 11)\n",
    "g.add_edge(2, 3, 15)\n",
    "g.add_edge(2, 4, 10)\n",
    "g.add_edge(3, 4, 7)\n",
    "g.kruskal()"
   ]
  }
 ],
 "metadata": {
  "kernelspec": {
   "display_name": "Python 3.9.7 ('base')",
   "language": "python",
   "name": "python3"
  },
  "language_info": {
   "codemirror_mode": {
    "name": "ipython",
    "version": 3
   },
   "file_extension": ".py",
   "mimetype": "text/x-python",
   "name": "python",
   "nbconvert_exporter": "python",
   "pygments_lexer": "ipython3",
   "version": "3.9.7"
  },
  "vscode": {
   "interpreter": {
    "hash": "84451d68c0263c37bb44ff27948ed14f3b4e8797bdabd66746a155eb7b93763c"
   }
  }
 },
 "nbformat": 4,
 "nbformat_minor": 5
}
