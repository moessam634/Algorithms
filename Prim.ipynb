{
 "cells": [
  {
   "cell_type": "code",
   "execution_count": 1,
   "id": "9724293d",
   "metadata": {},
   "outputs": [
    {
     "name": "stdout",
     "output_type": "stream",
     "text": [
      "Edge : Weight\n",
      "\n",
      "0-5:10\n",
      "5-2:9\n",
      "0-1:25\n",
      "1-3:19\n",
      "3-4:31\n"
     ]
    }
   ],
   "source": [
    "INF = 9999999\n",
    "# number of vertices in graph\n",
    "V = 6\n",
    "G = [[0, 25, 75, 0, 0,10],\n",
    "     [9, 0, 100, 19, 42,10],\n",
    "     [75, 95, 0, 51, 66,10],\n",
    "     [0, 20, 51, 0, 31,12],\n",
    "     [0, 42, 66, 45, 0,20],\n",
    "     [110, 85, 9, 250, 99,40]]\n",
    "\n",
    "selected = [0, 0, 0, 0, 0,0]\n",
    "\n",
    "no_edge = 0\n",
    "\n",
    "selected[0] = True\n",
    "\n",
    "print(\"Edge : Weight\\n\")\n",
    "\n",
    "while (no_edge < V - 1):\n",
    "    minimum = INF\n",
    "    x = 0\n",
    "    y = 0\n",
    "    for i in range(V):\n",
    "        if selected[i]:\n",
    "            for j in range(V):\n",
    "                if ((not selected[j]) and G[i][j]):  \n",
    "                    if minimum > G[i][j]:\n",
    "                        minimum = G[i][j]\n",
    "                        x = i\n",
    "                        y = j\n",
    "    print(str(x) + \"-\" + str(y) + \":\" + str(G[x][y]))\n",
    "    selected[y] = True\n",
    "    no_edge += 1\n"
   ]
  }
 ],
 "metadata": {
  "kernelspec": {
   "display_name": "Python 3.9.7 ('base')",
   "language": "python",
   "name": "python3"
  },
  "language_info": {
   "codemirror_mode": {
    "name": "ipython",
    "version": 3
   },
   "file_extension": ".py",
   "mimetype": "text/x-python",
   "name": "python",
   "nbconvert_exporter": "python",
   "pygments_lexer": "ipython3",
   "version": "3.9.7"
  },
  "vscode": {
   "interpreter": {
    "hash": "84451d68c0263c37bb44ff27948ed14f3b4e8797bdabd66746a155eb7b93763c"
   }
  }
 },
 "nbformat": 4,
 "nbformat_minor": 5
}
